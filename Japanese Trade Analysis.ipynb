{
 "cells": [
  {
   "cell_type": "markdown",
   "metadata": {},
   "source": [
    "# Analysis of Japanese Trade Through Python"
   ]
  },
  {
   "cell_type": "markdown",
   "metadata": {},
   "source": [
    "### For this project, we intend to analyze a large amount of data about Japanese trade by unit. The data gives us information about imports and exports from 1988 to 2015. We are interested in visualizing the data in a few different ways in order to find important trends. These graphs will focus on Japan's trade by area and by year. "
   ]
  },
  {
   "cell_type": "markdown",
   "metadata": {},
   "source": [
    "The data can be found here: https://www.kaggle.com/zanjibar/japan-trade-statistics"
   ]
  },
  {
   "cell_type": "markdown",
   "metadata": {},
   "source": [
    "# Creating a Bar Plot for the Exports and Imports of Each Area"
   ]
  },
  {
   "cell_type": "markdown",
   "metadata": {},
   "source": [
    "The first graph we will create is going to be a bar graph containing a set of two bars for each area. One bar will represent the imports and the other bar will represent the exports."
   ]
  },
  {
   "cell_type": "code",
   "execution_count": 1,
   "metadata": {
    "collapsed": true
   },
   "outputs": [],
   "source": [
    "import pandas as pd\n",
    "import numpy as np\n",
    "import matplotlib.pyplot as plt\n",
    "import seaborn as sd\n",
    "\n",
    "year = pd.read_csv('file:///C:/Users/mkassir/Downloads/japan-trade-statistics/year_1988_2015.csv')\n",
    "country_list = pd.read_csv('file:///C:/Users/mkassir/Downloads/japan-trade-statistics/country_eng.csv')"
   ]
  },
  {
   "cell_type": "markdown",
   "metadata": {},
   "source": [
    "Taking a look at the dataframe listing all the imports and exports, we see that the data tells us whether each row is about an import or an export, the year it was sent, and information that is numerical becuase it refers to other tables. We are interested in what countries the exports/imports are associated with. "
   ]
  },
  {
   "cell_type": "code",
   "execution_count": 2,
   "metadata": {},
   "outputs": [
    {
     "data": {
      "text/html": [
       "<div>\n",
       "<style>\n",
       "    .dataframe thead tr:only-child th {\n",
       "        text-align: right;\n",
       "    }\n",
       "\n",
       "    .dataframe thead th {\n",
       "        text-align: left;\n",
       "    }\n",
       "\n",
       "    .dataframe tbody tr th {\n",
       "        vertical-align: top;\n",
       "    }\n",
       "</style>\n",
       "<table border=\"1\" class=\"dataframe\">\n",
       "  <thead>\n",
       "    <tr style=\"text-align: right;\">\n",
       "      <th></th>\n",
       "      <th>exp_imp</th>\n",
       "      <th>Year</th>\n",
       "      <th>Country</th>\n",
       "      <th>Unit1</th>\n",
       "      <th>Unit2</th>\n",
       "      <th>QY1</th>\n",
       "      <th>QY2</th>\n",
       "      <th>VY</th>\n",
       "      <th>hs2</th>\n",
       "      <th>hs4</th>\n",
       "      <th>hs6</th>\n",
       "      <th>hs9</th>\n",
       "    </tr>\n",
       "  </thead>\n",
       "  <tbody>\n",
       "    <tr>\n",
       "      <th>0</th>\n",
       "      <td>1</td>\n",
       "      <td>1988</td>\n",
       "      <td>210</td>\n",
       "      <td>NaN</td>\n",
       "      <td>NO</td>\n",
       "      <td>0</td>\n",
       "      <td>3</td>\n",
       "      <td>25706</td>\n",
       "      <td>1</td>\n",
       "      <td>101</td>\n",
       "      <td>10111</td>\n",
       "      <td>10111000</td>\n",
       "    </tr>\n",
       "    <tr>\n",
       "      <th>1</th>\n",
       "      <td>1</td>\n",
       "      <td>1988</td>\n",
       "      <td>104</td>\n",
       "      <td>NaN</td>\n",
       "      <td>NO</td>\n",
       "      <td>0</td>\n",
       "      <td>4</td>\n",
       "      <td>5600</td>\n",
       "      <td>1</td>\n",
       "      <td>101</td>\n",
       "      <td>10119</td>\n",
       "      <td>10119000</td>\n",
       "    </tr>\n",
       "    <tr>\n",
       "      <th>2</th>\n",
       "      <td>1</td>\n",
       "      <td>1988</td>\n",
       "      <td>106</td>\n",
       "      <td>NaN</td>\n",
       "      <td>NO</td>\n",
       "      <td>0</td>\n",
       "      <td>6</td>\n",
       "      <td>9600</td>\n",
       "      <td>1</td>\n",
       "      <td>101</td>\n",
       "      <td>10119</td>\n",
       "      <td>10119000</td>\n",
       "    </tr>\n",
       "    <tr>\n",
       "      <th>3</th>\n",
       "      <td>1</td>\n",
       "      <td>1988</td>\n",
       "      <td>105</td>\n",
       "      <td>NaN</td>\n",
       "      <td>NO</td>\n",
       "      <td>0</td>\n",
       "      <td>1</td>\n",
       "      <td>1230</td>\n",
       "      <td>1</td>\n",
       "      <td>102</td>\n",
       "      <td>10290</td>\n",
       "      <td>10290000</td>\n",
       "    </tr>\n",
       "    <tr>\n",
       "      <th>4</th>\n",
       "      <td>1</td>\n",
       "      <td>1988</td>\n",
       "      <td>304</td>\n",
       "      <td>NaN</td>\n",
       "      <td>NO</td>\n",
       "      <td>0</td>\n",
       "      <td>2</td>\n",
       "      <td>3500</td>\n",
       "      <td>1</td>\n",
       "      <td>102</td>\n",
       "      <td>10290</td>\n",
       "      <td>10290000</td>\n",
       "    </tr>\n",
       "  </tbody>\n",
       "</table>\n",
       "</div>"
      ],
      "text/plain": [
       "   exp_imp  Year  Country Unit1 Unit2  QY1  QY2     VY  hs2  hs4    hs6  \\\n",
       "0        1  1988      210   NaN    NO    0    3  25706    1  101  10111   \n",
       "1        1  1988      104   NaN    NO    0    4   5600    1  101  10119   \n",
       "2        1  1988      106   NaN    NO    0    6   9600    1  101  10119   \n",
       "3        1  1988      105   NaN    NO    0    1   1230    1  102  10290   \n",
       "4        1  1988      304   NaN    NO    0    2   3500    1  102  10290   \n",
       "\n",
       "        hs9  \n",
       "0  10111000  \n",
       "1  10119000  \n",
       "2  10119000  \n",
       "3  10290000  \n",
       "4  10290000  "
      ]
     },
     "execution_count": 2,
     "metadata": {},
     "output_type": "execute_result"
    }
   ],
   "source": [
    "year.head()"
   ]
  },
  {
   "cell_type": "markdown",
   "metadata": {},
   "source": [
    "First we will delete the columns we are not interested in."
   ]
  },
  {
   "cell_type": "code",
   "execution_count": 3,
   "metadata": {
    "collapsed": true
   },
   "outputs": [],
   "source": [
    "year.drop(['Unit1','Unit2','QY1','QY2','VY','hs2','hs4','hs6','hs9'], axis=1,inplace = True)"
   ]
  },
  {
   "cell_type": "markdown",
   "metadata": {},
   "source": [
    "Let's take a look at country_list:"
   ]
  },
  {
   "cell_type": "code",
   "execution_count": 4,
   "metadata": {},
   "outputs": [
    {
     "data": {
      "text/html": [
       "<div>\n",
       "<style>\n",
       "    .dataframe thead tr:only-child th {\n",
       "        text-align: right;\n",
       "    }\n",
       "\n",
       "    .dataframe thead th {\n",
       "        text-align: left;\n",
       "    }\n",
       "\n",
       "    .dataframe tbody tr th {\n",
       "        vertical-align: top;\n",
       "    }\n",
       "</style>\n",
       "<table border=\"1\" class=\"dataframe\">\n",
       "  <thead>\n",
       "    <tr style=\"text-align: right;\">\n",
       "      <th></th>\n",
       "      <th>Country</th>\n",
       "      <th>Country_name</th>\n",
       "      <th>Area</th>\n",
       "    </tr>\n",
       "  </thead>\n",
       "  <tbody>\n",
       "    <tr>\n",
       "      <th>0</th>\n",
       "      <td>103</td>\n",
       "      <td>Republic_of_Korea</td>\n",
       "      <td>Asia</td>\n",
       "    </tr>\n",
       "    <tr>\n",
       "      <th>1</th>\n",
       "      <td>104</td>\n",
       "      <td>North_Korea</td>\n",
       "      <td>Asia</td>\n",
       "    </tr>\n",
       "    <tr>\n",
       "      <th>2</th>\n",
       "      <td>105</td>\n",
       "      <td>People's_Republic_of_China</td>\n",
       "      <td>Asia</td>\n",
       "    </tr>\n",
       "    <tr>\n",
       "      <th>3</th>\n",
       "      <td>106</td>\n",
       "      <td>Taiwan</td>\n",
       "      <td>Asia</td>\n",
       "    </tr>\n",
       "    <tr>\n",
       "      <th>4</th>\n",
       "      <td>107</td>\n",
       "      <td>Mongolia</td>\n",
       "      <td>Asia</td>\n",
       "    </tr>\n",
       "  </tbody>\n",
       "</table>\n",
       "</div>"
      ],
      "text/plain": [
       "   Country                Country_name  Area\n",
       "0      103           Republic_of_Korea  Asia\n",
       "1      104                 North_Korea  Asia\n",
       "2      105  People's_Republic_of_China  Asia\n",
       "3      106                      Taiwan  Asia\n",
       "4      107                    Mongolia  Asia"
      ]
     },
     "execution_count": 4,
     "metadata": {},
     "output_type": "execute_result"
    }
   ],
   "source": [
    "country_list.head()"
   ]
  },
  {
   "cell_type": "markdown",
   "metadata": {},
   "source": [
    "Country_list contains the code as to which country each number represents in the dataframe. We will replace the numbers in the dataframe with names of the countries and add a column showing the area of the country."
   ]
  },
  {
   "cell_type": "code",
   "execution_count": 5,
   "metadata": {
    "collapsed": true
   },
   "outputs": [],
   "source": [
    "country_dict = {country:name for country,name in zip(country_list['Country'],country_list['Country_name'])}\n",
    "country_dict2 = {country:area for country,area in zip(country_list['Country_name'],country_list['Area'])}"
   ]
  },
  {
   "cell_type": "code",
   "execution_count": 6,
   "metadata": {
    "collapsed": true
   },
   "outputs": [],
   "source": [
    "year['Country'] = year['Country'].map(country_dict)\n",
    "year['Area'] = year['Country'].map(country_dict2)"
   ]
  },
  {
   "cell_type": "markdown",
   "metadata": {},
   "source": [
    "Now we can drop the 'Country' column becuase we will not be using it."
   ]
  },
  {
   "cell_type": "code",
   "execution_count": 7,
   "metadata": {
    "collapsed": true
   },
   "outputs": [],
   "source": [
    "year.drop(['Country'], axis=1, inplace=True)"
   ]
  },
  {
   "cell_type": "markdown",
   "metadata": {},
   "source": [
    "Becuase the year of the export or import will not be bar plot, we will eliminate the 'Year' column."
   ]
  },
  {
   "cell_type": "code",
   "execution_count": 8,
   "metadata": {
    "collapsed": true
   },
   "outputs": [],
   "source": [
    "year.drop(['Year'], axis=1, inplace=True)"
   ]
  },
  {
   "cell_type": "markdown",
   "metadata": {},
   "source": [
    "We will split the dataframe into two dataframes: one for the imports and one for exports"
   ]
  },
  {
   "cell_type": "code",
   "execution_count": 9,
   "metadata": {
    "collapsed": true
   },
   "outputs": [],
   "source": [
    "year_imp = year[year.exp_imp != 1]\n",
    "year_exp = year[year.exp_imp != 2]"
   ]
  },
  {
   "cell_type": "markdown",
   "metadata": {},
   "source": [
    "Becuase we will show the exports and imports by area, we will group them by the area they took place in."
   ]
  },
  {
   "cell_type": "code",
   "execution_count": 10,
   "metadata": {
    "collapsed": true
   },
   "outputs": [],
   "source": [
    "year_imp = year_imp.groupby('Area').count()\n",
    "year_exp = year_exp.groupby('Area').count()"
   ]
  },
  {
   "cell_type": "markdown",
   "metadata": {},
   "source": [
    "Let us take a look at the two dataframes:"
   ]
  },
  {
   "cell_type": "code",
   "execution_count": 11,
   "metadata": {},
   "outputs": [
    {
     "data": {
      "text/html": [
       "<div>\n",
       "<style>\n",
       "    .dataframe thead tr:only-child th {\n",
       "        text-align: right;\n",
       "    }\n",
       "\n",
       "    .dataframe thead th {\n",
       "        text-align: left;\n",
       "    }\n",
       "\n",
       "    .dataframe tbody tr th {\n",
       "        vertical-align: top;\n",
       "    }\n",
       "</style>\n",
       "<table border=\"1\" class=\"dataframe\">\n",
       "  <thead>\n",
       "    <tr style=\"text-align: right;\">\n",
       "      <th></th>\n",
       "      <th>exp_imp</th>\n",
       "    </tr>\n",
       "    <tr>\n",
       "      <th>Area</th>\n",
       "      <th></th>\n",
       "    </tr>\n",
       "  </thead>\n",
       "  <tbody>\n",
       "    <tr>\n",
       "      <th>Africa</th>\n",
       "      <td>55087</td>\n",
       "    </tr>\n",
       "    <tr>\n",
       "      <th>Asia</th>\n",
       "      <td>827087</td>\n",
       "    </tr>\n",
       "    <tr>\n",
       "      <th>Central_and_East_Europe_Russia</th>\n",
       "      <td>107877</td>\n",
       "    </tr>\n",
       "    <tr>\n",
       "      <th>Integrated_Hozei_Ar_Special_Area</th>\n",
       "      <td>3</td>\n",
       "    </tr>\n",
       "    <tr>\n",
       "      <th>Middle_East</th>\n",
       "      <td>39655</td>\n",
       "    </tr>\n",
       "    <tr>\n",
       "      <th>Middle_and_South_America</th>\n",
       "      <td>122180</td>\n",
       "    </tr>\n",
       "    <tr>\n",
       "      <th>North_America</th>\n",
       "      <td>221482</td>\n",
       "    </tr>\n",
       "    <tr>\n",
       "      <th>Oceania</th>\n",
       "      <td>88086</td>\n",
       "    </tr>\n",
       "    <tr>\n",
       "      <th>Special_Area</th>\n",
       "      <td>307</td>\n",
       "    </tr>\n",
       "    <tr>\n",
       "      <th>Western_Europe</th>\n",
       "      <td>928034</td>\n",
       "    </tr>\n",
       "  </tbody>\n",
       "</table>\n",
       "</div>"
      ],
      "text/plain": [
       "                                  exp_imp\n",
       "Area                                     \n",
       "Africa                              55087\n",
       "Asia                               827087\n",
       "Central_and_East_Europe_Russia     107877\n",
       "Integrated_Hozei_Ar_Special_Area        3\n",
       "Middle_East                         39655\n",
       "Middle_and_South_America           122180\n",
       "North_America                      221482\n",
       "Oceania                             88086\n",
       "Special_Area                          307\n",
       "Western_Europe                     928034"
      ]
     },
     "execution_count": 11,
     "metadata": {},
     "output_type": "execute_result"
    }
   ],
   "source": [
    "year_imp"
   ]
  },
  {
   "cell_type": "code",
   "execution_count": 12,
   "metadata": {},
   "outputs": [
    {
     "data": {
      "text/html": [
       "<div>\n",
       "<style>\n",
       "    .dataframe thead tr:only-child th {\n",
       "        text-align: right;\n",
       "    }\n",
       "\n",
       "    .dataframe thead th {\n",
       "        text-align: left;\n",
       "    }\n",
       "\n",
       "    .dataframe tbody tr th {\n",
       "        vertical-align: top;\n",
       "    }\n",
       "</style>\n",
       "<table border=\"1\" class=\"dataframe\">\n",
       "  <thead>\n",
       "    <tr style=\"text-align: right;\">\n",
       "      <th></th>\n",
       "      <th>exp_imp</th>\n",
       "    </tr>\n",
       "    <tr>\n",
       "      <th>Area</th>\n",
       "      <th></th>\n",
       "    </tr>\n",
       "  </thead>\n",
       "  <tbody>\n",
       "    <tr>\n",
       "      <th>Africa</th>\n",
       "      <td>370716</td>\n",
       "    </tr>\n",
       "    <tr>\n",
       "      <th>Asia</th>\n",
       "      <td>1449314</td>\n",
       "    </tr>\n",
       "    <tr>\n",
       "      <th>Central_and_East_Europe_Russia</th>\n",
       "      <td>197946</td>\n",
       "    </tr>\n",
       "    <tr>\n",
       "      <th>Middle_East</th>\n",
       "      <td>342424</td>\n",
       "    </tr>\n",
       "    <tr>\n",
       "      <th>Middle_and_South_America</th>\n",
       "      <td>482289</td>\n",
       "    </tr>\n",
       "    <tr>\n",
       "      <th>North_America</th>\n",
       "      <td>194118</td>\n",
       "    </tr>\n",
       "    <tr>\n",
       "      <th>Oceania</th>\n",
       "      <td>256449</td>\n",
       "    </tr>\n",
       "    <tr>\n",
       "      <th>Special_Area</th>\n",
       "      <td>68</td>\n",
       "    </tr>\n",
       "    <tr>\n",
       "      <th>Western_Europe</th>\n",
       "      <td>906038</td>\n",
       "    </tr>\n",
       "  </tbody>\n",
       "</table>\n",
       "</div>"
      ],
      "text/plain": [
       "                                exp_imp\n",
       "Area                                   \n",
       "Africa                           370716\n",
       "Asia                            1449314\n",
       "Central_and_East_Europe_Russia   197946\n",
       "Middle_East                      342424\n",
       "Middle_and_South_America         482289\n",
       "North_America                    194118\n",
       "Oceania                          256449\n",
       "Special_Area                         68\n",
       "Western_Europe                   906038"
      ]
     },
     "execution_count": 12,
     "metadata": {},
     "output_type": "execute_result"
    }
   ],
   "source": [
    "year_exp"
   ]
  },
  {
   "cell_type": "markdown",
   "metadata": {},
   "source": [
    "The \"Integrated_Hozei_Ar_Special_Area\" and the \"Special_Area\" columns are so small that they will not appear on the bar plot. For this reason, they will be deleted."
   ]
  },
  {
   "cell_type": "code",
   "execution_count": 13,
   "metadata": {
    "collapsed": true
   },
   "outputs": [],
   "source": [
    "year_imp.drop(['Integrated_Hozei_Ar_Special_Area','Special_Area'], axis=0, inplace=True)\n",
    "year_exp.drop(['Special_Area'], axis=0, inplace=True)"
   ]
  },
  {
   "cell_type": "markdown",
   "metadata": {},
   "source": [
    "And now to re-view them:"
   ]
  },
  {
   "cell_type": "code",
   "execution_count": 14,
   "metadata": {},
   "outputs": [
    {
     "data": {
      "text/html": [
       "<div>\n",
       "<style>\n",
       "    .dataframe thead tr:only-child th {\n",
       "        text-align: right;\n",
       "    }\n",
       "\n",
       "    .dataframe thead th {\n",
       "        text-align: left;\n",
       "    }\n",
       "\n",
       "    .dataframe tbody tr th {\n",
       "        vertical-align: top;\n",
       "    }\n",
       "</style>\n",
       "<table border=\"1\" class=\"dataframe\">\n",
       "  <thead>\n",
       "    <tr style=\"text-align: right;\">\n",
       "      <th></th>\n",
       "      <th>exp_imp</th>\n",
       "    </tr>\n",
       "    <tr>\n",
       "      <th>Area</th>\n",
       "      <th></th>\n",
       "    </tr>\n",
       "  </thead>\n",
       "  <tbody>\n",
       "    <tr>\n",
       "      <th>Africa</th>\n",
       "      <td>55087</td>\n",
       "    </tr>\n",
       "    <tr>\n",
       "      <th>Asia</th>\n",
       "      <td>827087</td>\n",
       "    </tr>\n",
       "    <tr>\n",
       "      <th>Central_and_East_Europe_Russia</th>\n",
       "      <td>107877</td>\n",
       "    </tr>\n",
       "    <tr>\n",
       "      <th>Middle_East</th>\n",
       "      <td>39655</td>\n",
       "    </tr>\n",
       "    <tr>\n",
       "      <th>Middle_and_South_America</th>\n",
       "      <td>122180</td>\n",
       "    </tr>\n",
       "    <tr>\n",
       "      <th>North_America</th>\n",
       "      <td>221482</td>\n",
       "    </tr>\n",
       "    <tr>\n",
       "      <th>Oceania</th>\n",
       "      <td>88086</td>\n",
       "    </tr>\n",
       "    <tr>\n",
       "      <th>Western_Europe</th>\n",
       "      <td>928034</td>\n",
       "    </tr>\n",
       "  </tbody>\n",
       "</table>\n",
       "</div>"
      ],
      "text/plain": [
       "                                exp_imp\n",
       "Area                                   \n",
       "Africa                            55087\n",
       "Asia                             827087\n",
       "Central_and_East_Europe_Russia   107877\n",
       "Middle_East                       39655\n",
       "Middle_and_South_America         122180\n",
       "North_America                    221482\n",
       "Oceania                           88086\n",
       "Western_Europe                   928034"
      ]
     },
     "execution_count": 14,
     "metadata": {},
     "output_type": "execute_result"
    }
   ],
   "source": [
    "year_imp"
   ]
  },
  {
   "cell_type": "markdown",
   "metadata": {},
   "source": [
    "The next step is to "
   ]
  },
  {
   "cell_type": "code",
   "execution_count": 15,
   "metadata": {},
   "outputs": [
    {
     "data": {
      "text/html": [
       "<div>\n",
       "<style>\n",
       "    .dataframe thead tr:only-child th {\n",
       "        text-align: right;\n",
       "    }\n",
       "\n",
       "    .dataframe thead th {\n",
       "        text-align: left;\n",
       "    }\n",
       "\n",
       "    .dataframe tbody tr th {\n",
       "        vertical-align: top;\n",
       "    }\n",
       "</style>\n",
       "<table border=\"1\" class=\"dataframe\">\n",
       "  <thead>\n",
       "    <tr style=\"text-align: right;\">\n",
       "      <th></th>\n",
       "      <th>exp_imp</th>\n",
       "    </tr>\n",
       "    <tr>\n",
       "      <th>Area</th>\n",
       "      <th></th>\n",
       "    </tr>\n",
       "  </thead>\n",
       "  <tbody>\n",
       "    <tr>\n",
       "      <th>Africa</th>\n",
       "      <td>370716</td>\n",
       "    </tr>\n",
       "    <tr>\n",
       "      <th>Asia</th>\n",
       "      <td>1449314</td>\n",
       "    </tr>\n",
       "    <tr>\n",
       "      <th>Central_and_East_Europe_Russia</th>\n",
       "      <td>197946</td>\n",
       "    </tr>\n",
       "    <tr>\n",
       "      <th>Middle_East</th>\n",
       "      <td>342424</td>\n",
       "    </tr>\n",
       "    <tr>\n",
       "      <th>Middle_and_South_America</th>\n",
       "      <td>482289</td>\n",
       "    </tr>\n",
       "    <tr>\n",
       "      <th>North_America</th>\n",
       "      <td>194118</td>\n",
       "    </tr>\n",
       "    <tr>\n",
       "      <th>Oceania</th>\n",
       "      <td>256449</td>\n",
       "    </tr>\n",
       "    <tr>\n",
       "      <th>Western_Europe</th>\n",
       "      <td>906038</td>\n",
       "    </tr>\n",
       "  </tbody>\n",
       "</table>\n",
       "</div>"
      ],
      "text/plain": [
       "                                exp_imp\n",
       "Area                                   \n",
       "Africa                           370716\n",
       "Asia                            1449314\n",
       "Central_and_East_Europe_Russia   197946\n",
       "Middle_East                      342424\n",
       "Middle_and_South_America         482289\n",
       "North_America                    194118\n",
       "Oceania                          256449\n",
       "Western_Europe                   906038"
      ]
     },
     "execution_count": 15,
     "metadata": {},
     "output_type": "execute_result"
    }
   ],
   "source": [
    "year_exp"
   ]
  },
  {
   "cell_type": "markdown",
   "metadata": {},
   "source": [
    "In order to create a bar plot, we need to convert our dataframe to a list. We will create 3 lists total: One list will contain the areas, one list will contain the imports, and one list will contain the exports."
   ]
  },
  {
   "cell_type": "code",
   "execution_count": 16,
   "metadata": {},
   "outputs": [],
   "source": [
    "Areas = year_exp.index.tolist()\n",
    "year_imp = year_imp['exp_imp'].tolist()\n",
    "year_exp = year_exp['exp_imp'].tolist()"
   ]
  },
  {
   "cell_type": "markdown",
   "metadata": {},
   "source": [
    "Now we will make sure the lists look correct."
   ]
  },
  {
   "cell_type": "code",
   "execution_count": 17,
   "metadata": {},
   "outputs": [
    {
     "data": {
      "text/plain": [
       "[55087L, 827087L, 107877L, 39655L, 122180L, 221482L, 88086L, 928034L]"
      ]
     },
     "execution_count": 17,
     "metadata": {},
     "output_type": "execute_result"
    }
   ],
   "source": [
    "year_imp"
   ]
  },
  {
   "cell_type": "markdown",
   "metadata": {},
   "source": [
    "One more problem is that the 'Areas' list is too long to list on the bottom of the bar graph, so we will abbreviate parts of it."
   ]
  },
  {
   "cell_type": "code",
   "execution_count": 18,
   "metadata": {},
   "outputs": [
    {
     "data": {
      "text/plain": [
       "['Africa',\n",
       " 'Asia',\n",
       " 'Central_and_East_Europe_Russia',\n",
       " 'Middle_East',\n",
       " 'Middle_and_South_America',\n",
       " 'North_America',\n",
       " 'Oceania',\n",
       " 'Western_Europe']"
      ]
     },
     "execution_count": 18,
     "metadata": {},
     "output_type": "execute_result"
    }
   ],
   "source": [
    "Areas"
   ]
  },
  {
   "cell_type": "code",
   "execution_count": 19,
   "metadata": {
    "collapsed": true
   },
   "outputs": [],
   "source": [
    "Areas = ['Africa','Asia','CE and Russia','ME','SA','NA', 'Oceania','WE']"
   ]
  },
  {
   "cell_type": "markdown",
   "metadata": {},
   "source": [
    "Now the graph:"
   ]
  },
  {
   "cell_type": "code",
   "execution_count": 42,
   "metadata": {},
   "outputs": [
    {
     "data": {
      "image/png": "[encoded data removed]",
      "text/plain": [
       "<matplotlib.figure.Figure at 0x38e7b2e8>"
      ]
     },
     "metadata": {},
     "output_type": "display_data"
    }
   ],
   "source": [
    "index = np.arange(len(Areas))\n",
    "bar_width = 0.4\n",
    "\n",
    "plt.bar(index, year_imp, 0.3, alpha = 0.8, color='green', label='imports')\n",
    "plt.bar(index + 0.3, year_exp, 0.3, alpha = 0.8, color='blue', label='exports')\n",
    "\n",
    "plt.xticks(index, Areas)\n",
    "\n",
    "plt.xlabel(\"Area Name\")\n",
    "plt.ylabel(\"Amount of Trade\")\n",
    "plt.title('Japanese Trade Amount By Area')\n",
    "\n",
    "plt.legend()\n",
    "plt.show()"
   ]
  },
  {
   "cell_type": "markdown",
   "metadata": {},
   "source": [
    "### The plot shows that Japan's biggest partner in imports is Western Europe, and it exports most to other Asian countries."
   ]
  },
  {
   "cell_type": "markdown",
   "metadata": {},
   "source": [
    "# Creating a Graph Showing the Change in Trade Over Time"
   ]
  },
  {
   "cell_type": "markdown",
   "metadata": {},
   "source": [
    "We will create a graph that shows the amount of imports and the amount of exports each year"
   ]
  },
  {
   "cell_type": "markdown",
   "metadata": {},
   "source": [
    "First we will import the dataframe again to obtain it without the previous changes."
   ]
  },
  {
   "cell_type": "code",
   "execution_count": 21,
   "metadata": {
    "collapsed": true
   },
   "outputs": [],
   "source": [
    "year = pd.read_csv('file:///C:/Users/mkassir/Downloads/japan-trade-statistics/year_1988_2015.csv')"
   ]
  },
  {
   "cell_type": "markdown",
   "metadata": {},
   "source": [
    "We start by taking the only two colums we need for this graph, which is the type of trade and the year the trade took place."
   ]
  },
  {
   "cell_type": "code",
   "execution_count": 22,
   "metadata": {
    "collapsed": true
   },
   "outputs": [],
   "source": [
    "year_trends =  year[['exp_imp','Year']]"
   ]
  },
  {
   "cell_type": "markdown",
   "metadata": {},
   "source": [
    "Viewing it shows us that we have only the exact data we want."
   ]
  },
  {
   "cell_type": "code",
   "execution_count": 23,
   "metadata": {},
   "outputs": [
    {
     "data": {
      "text/html": [
       "<div>\n",
       "<style>\n",
       "    .dataframe thead tr:only-child th {\n",
       "        text-align: right;\n",
       "    }\n",
       "\n",
       "    .dataframe thead th {\n",
       "        text-align: left;\n",
       "    }\n",
       "\n",
       "    .dataframe tbody tr th {\n",
       "        vertical-align: top;\n",
       "    }\n",
       "</style>\n",
       "<table border=\"1\" class=\"dataframe\">\n",
       "  <thead>\n",
       "    <tr style=\"text-align: right;\">\n",
       "      <th></th>\n",
       "      <th>exp_imp</th>\n",
       "      <th>Year</th>\n",
       "    </tr>\n",
       "  </thead>\n",
       "  <tbody>\n",
       "    <tr>\n",
       "      <th>0</th>\n",
       "      <td>1</td>\n",
       "      <td>1988</td>\n",
       "    </tr>\n",
       "    <tr>\n",
       "      <th>1</th>\n",
       "      <td>1</td>\n",
       "      <td>1988</td>\n",
       "    </tr>\n",
       "    <tr>\n",
       "      <th>2</th>\n",
       "      <td>1</td>\n",
       "      <td>1988</td>\n",
       "    </tr>\n",
       "    <tr>\n",
       "      <th>3</th>\n",
       "      <td>1</td>\n",
       "      <td>1988</td>\n",
       "    </tr>\n",
       "    <tr>\n",
       "      <th>4</th>\n",
       "      <td>1</td>\n",
       "      <td>1988</td>\n",
       "    </tr>\n",
       "  </tbody>\n",
       "</table>\n",
       "</div>"
      ],
      "text/plain": [
       "   exp_imp  Year\n",
       "0        1  1988\n",
       "1        1  1988\n",
       "2        1  1988\n",
       "3        1  1988\n",
       "4        1  1988"
      ]
     },
     "execution_count": 23,
     "metadata": {},
     "output_type": "execute_result"
    }
   ],
   "source": [
    "year_trends.head()"
   ]
  },
  {
   "cell_type": "markdown",
   "metadata": {},
   "source": [
    "Now we will seperate the dataframe by imports and exports so we can graph each as its own line."
   ]
  },
  {
   "cell_type": "code",
   "execution_count": 24,
   "metadata": {
    "collapsed": true
   },
   "outputs": [],
   "source": [
    "year_imports = year_trends[year_trends.exp_imp != 1]\n",
    "year_exports = year_trends[year_trends.exp_imp != 2]"
   ]
  },
  {
   "cell_type": "markdown",
   "metadata": {},
   "source": [
    "Checking the value counts by Year groups the amount of trade by year. As a result, we will organize the data by value count and then view it."
   ]
  },
  {
   "cell_type": "code",
   "execution_count": 25,
   "metadata": {
    "collapsed": true
   },
   "outputs": [],
   "source": [
    "year_imp_val = year_imports['Year'].value_counts()\n",
    "year_exp_val = year_exports['Year'].value_counts()"
   ]
  },
  {
   "cell_type": "code",
   "execution_count": 26,
   "metadata": {},
   "outputs": [
    {
     "data": {
      "text/plain": [
       "2005    94707\n",
       "2006    94649\n",
       "2015    94506\n",
       "2007    94249\n",
       "2014    93702\n",
       "Name: Year, dtype: int64"
      ]
     },
     "execution_count": 26,
     "metadata": {},
     "output_type": "execute_result"
    }
   ],
   "source": [
    "year_imp_val.head()"
   ]
  },
  {
   "cell_type": "markdown",
   "metadata": {},
   "source": [
    "A quick look at the data shows us that we need to organize the data in the order of the years."
   ]
  },
  {
   "cell_type": "code",
   "execution_count": 27,
   "metadata": {
    "collapsed": true
   },
   "outputs": [],
   "source": [
    "year_imp_val = year_imp_val.sort_index()\n",
    "year_exp_val = year_exp_val.sort_index()"
   ]
  },
  {
   "cell_type": "markdown",
   "metadata": {},
   "source": [
    "We are ready to create the graph:"
   ]
  },
  {
   "cell_type": "code",
   "execution_count": 43,
   "metadata": {},
   "outputs": [
    {
     "data": {
      "image/png": "[encoded data removed]",
      "text/plain": [
       "<matplotlib.figure.Figure at 0x11130e48>"
      ]
     },
     "metadata": {},
     "output_type": "display_data"
    }
   ],
   "source": [
    "year_imp_val.plot(color = \"blue\", label='imports')\n",
    "year_exp_val.plot(color = \"red\", label='exports')\n",
    "\n",
    "plt.xlabel('Year')\n",
    "plt.ylabel('Amount of Trade')\n",
    "plt.title('Japanese Trade Over the Years')\n",
    "\n",
    "plt.legend()\n",
    "plt.show()"
   ]
  },
  {
   "cell_type": "markdown",
   "metadata": {},
   "source": [
    "### This graph shows that the overall imports and exports of Japan over the years. The exports have actually been decreasing, while the imports have been increasing."
   ]
  },
  {
   "cell_type": "markdown",
   "metadata": {},
   "source": [
    "# Creating a Graph that Shows the Change in Trade by Area Over Time"
   ]
  },
  {
   "cell_type": "markdown",
   "metadata": {},
   "source": [
    "As our final graph, we would like to show how the trade in each area over time. It would look similar to the previous graph, but exports and imports will not be seperated"
   ]
  },
  {
   "cell_type": "markdown",
   "metadata": {},
   "source": [
    "We will import the table again to take the data we need and then add our \"Area\" column."
   ]
  },
  {
   "cell_type": "code",
   "execution_count": 29,
   "metadata": {
    "collapsed": true
   },
   "outputs": [],
   "source": [
    "year = pd.read_csv('file:///C:/Users/mkassir/Downloads/japan-trade-statistics/year_1988_2015.csv')\n",
    "\n",
    "year['Country'] = year['Country'].map(country_dict)\n",
    "year['Area'] = year['Country'].map(country_dict2)"
   ]
  },
  {
   "cell_type": "markdown",
   "metadata": {},
   "source": [
    "Let us take a look on our dataframe."
   ]
  },
  {
   "cell_type": "code",
   "execution_count": 30,
   "metadata": {},
   "outputs": [
    {
     "data": {
      "text/html": [
       "<div>\n",
       "<style>\n",
       "    .dataframe thead tr:only-child th {\n",
       "        text-align: right;\n",
       "    }\n",
       "\n",
       "    .dataframe thead th {\n",
       "        text-align: left;\n",
       "    }\n",
       "\n",
       "    .dataframe tbody tr th {\n",
       "        vertical-align: top;\n",
       "    }\n",
       "</style>\n",
       "<table border=\"1\" class=\"dataframe\">\n",
       "  <thead>\n",
       "    <tr style=\"text-align: right;\">\n",
       "      <th></th>\n",
       "      <th>exp_imp</th>\n",
       "      <th>Year</th>\n",
       "      <th>Country</th>\n",
       "      <th>Unit1</th>\n",
       "      <th>Unit2</th>\n",
       "      <th>QY1</th>\n",
       "      <th>QY2</th>\n",
       "      <th>VY</th>\n",
       "      <th>hs2</th>\n",
       "      <th>hs4</th>\n",
       "      <th>hs6</th>\n",
       "      <th>hs9</th>\n",
       "      <th>Area</th>\n",
       "    </tr>\n",
       "  </thead>\n",
       "  <tbody>\n",
       "    <tr>\n",
       "      <th>0</th>\n",
       "      <td>1</td>\n",
       "      <td>1988</td>\n",
       "      <td>France</td>\n",
       "      <td>NaN</td>\n",
       "      <td>NO</td>\n",
       "      <td>0</td>\n",
       "      <td>3</td>\n",
       "      <td>25706</td>\n",
       "      <td>1</td>\n",
       "      <td>101</td>\n",
       "      <td>10111</td>\n",
       "      <td>10111000</td>\n",
       "      <td>Western_Europe</td>\n",
       "    </tr>\n",
       "    <tr>\n",
       "      <th>1</th>\n",
       "      <td>1</td>\n",
       "      <td>1988</td>\n",
       "      <td>North_Korea</td>\n",
       "      <td>NaN</td>\n",
       "      <td>NO</td>\n",
       "      <td>0</td>\n",
       "      <td>4</td>\n",
       "      <td>5600</td>\n",
       "      <td>1</td>\n",
       "      <td>101</td>\n",
       "      <td>10119</td>\n",
       "      <td>10119000</td>\n",
       "      <td>Asia</td>\n",
       "    </tr>\n",
       "    <tr>\n",
       "      <th>2</th>\n",
       "      <td>1</td>\n",
       "      <td>1988</td>\n",
       "      <td>Taiwan</td>\n",
       "      <td>NaN</td>\n",
       "      <td>NO</td>\n",
       "      <td>0</td>\n",
       "      <td>6</td>\n",
       "      <td>9600</td>\n",
       "      <td>1</td>\n",
       "      <td>101</td>\n",
       "      <td>10119</td>\n",
       "      <td>10119000</td>\n",
       "      <td>Asia</td>\n",
       "    </tr>\n",
       "    <tr>\n",
       "      <th>3</th>\n",
       "      <td>1</td>\n",
       "      <td>1988</td>\n",
       "      <td>People's_Republic_of_China</td>\n",
       "      <td>NaN</td>\n",
       "      <td>NO</td>\n",
       "      <td>0</td>\n",
       "      <td>1</td>\n",
       "      <td>1230</td>\n",
       "      <td>1</td>\n",
       "      <td>102</td>\n",
       "      <td>10290</td>\n",
       "      <td>10290000</td>\n",
       "      <td>Asia</td>\n",
       "    </tr>\n",
       "    <tr>\n",
       "      <th>4</th>\n",
       "      <td>1</td>\n",
       "      <td>1988</td>\n",
       "      <td>United_States_of_America</td>\n",
       "      <td>NaN</td>\n",
       "      <td>NO</td>\n",
       "      <td>0</td>\n",
       "      <td>2</td>\n",
       "      <td>3500</td>\n",
       "      <td>1</td>\n",
       "      <td>102</td>\n",
       "      <td>10290</td>\n",
       "      <td>10290000</td>\n",
       "      <td>North_America</td>\n",
       "    </tr>\n",
       "  </tbody>\n",
       "</table>\n",
       "</div>"
      ],
      "text/plain": [
       "   exp_imp  Year                     Country Unit1 Unit2  QY1  QY2     VY  \\\n",
       "0        1  1988                      France   NaN    NO    0    3  25706   \n",
       "1        1  1988                 North_Korea   NaN    NO    0    4   5600   \n",
       "2        1  1988                      Taiwan   NaN    NO    0    6   9600   \n",
       "3        1  1988  People's_Republic_of_China   NaN    NO    0    1   1230   \n",
       "4        1  1988    United_States_of_America   NaN    NO    0    2   3500   \n",
       "\n",
       "   hs2  hs4    hs6       hs9            Area  \n",
       "0    1  101  10111  10111000  Western_Europe  \n",
       "1    1  101  10119  10119000            Asia  \n",
       "2    1  101  10119  10119000            Asia  \n",
       "3    1  102  10290  10290000            Asia  \n",
       "4    1  102  10290  10290000   North_America  "
      ]
     },
     "execution_count": 30,
     "metadata": {},
     "output_type": "execute_result"
    }
   ],
   "source": [
    "year.head()"
   ]
  },
  {
   "cell_type": "markdown",
   "metadata": {},
   "source": [
    "The only columns we will be using are \"Year\" and \"Area\", so we will create a new dataframe with these two columns."
   ]
  },
  {
   "cell_type": "code",
   "execution_count": 31,
   "metadata": {
    "collapsed": true
   },
   "outputs": [],
   "source": [
    "year_area = year[['Year','Area']]"
   ]
  },
  {
   "cell_type": "markdown",
   "metadata": {},
   "source": [
    "Now we will group each area by the year, which will add up all the rows that feature the same area and year."
   ]
  },
  {
   "cell_type": "code",
   "execution_count": 32,
   "metadata": {
    "collapsed": true
   },
   "outputs": [],
   "source": [
    "year_area = pd.get_dummies(year_area)\n",
    "year_area = year_area.groupby('Year')"
   ]
  },
  {
   "cell_type": "markdown",
   "metadata": {},
   "source": [
    "To graph the datagrame, we will add up all the rows for each area and then plot it."
   ]
  },
  {
   "cell_type": "code",
   "execution_count": 33,
   "metadata": {},
   "outputs": [
    {
     "data": {
      "image/png": "[encoded data removed]",
      "text/plain": [
       "<matplotlib.figure.Figure at 0x1df9f710>"
      ]
     },
     "metadata": {},
     "output_type": "display_data"
    }
   ],
   "source": [
    "year_area.sum().plot()\n",
    "plt.show()"
   ]
  },
  {
   "cell_type": "markdown",
   "metadata": {},
   "source": [
    "### Unsurprisingly, Japan trades most with Asia and Western Europe. It is interesting to see that the rate of trade has been relatively consistent. Maybe this is a reflection of the fact that Japan's economy has not grown much since the 1990s."
   ]
  },
  {
   "cell_type": "code",
   "execution_count": 38,
   "metadata": {},
   "outputs": [
    {
     "data": {
      "image/png": "[encoded data removed]",
      "text/plain": [
       "<matplotlib.figure.Figure at 0x3cb87588>"
      ]
     },
     "metadata": {},
     "output_type": "display_data"
    }
   ],
   "source": [
    "n_groups = 5\n",
    "\n",
    "means_men = (20, 35, 30, 35, 27)\n",
    "std_men = (2, 3, 4, 1, 2)\n",
    "\n",
    "means_women = (25, 32, 34, 20, 25)\n",
    "std_women = (3, 5, 2, 3, 3)\n",
    "\n",
    "fig, ax = plt.subplots()\n",
    "\n",
    "index = np.arange(n_groups)\n",
    "bar_width = 0.35\n",
    "\n",
    "opacity = 0.4\n",
    "error_config = {'ecolor': '0.3'}\n",
    "\n",
    "rects1 = plt.bar(index, means_men, bar_width,\n",
    "                 alpha=opacity,\n",
    "                 color='b',\n",
    "                 yerr=std_men,\n",
    "                 error_kw=error_config,\n",
    "                 label='Men')\n",
    "\n",
    "rects2 = plt.bar(index + bar_width, means_women, bar_width,\n",
    "                 alpha=opacity,\n",
    "                 color='r',\n",
    "                 yerr=std_women,\n",
    "                 error_kw=error_config,\n",
    "                 label='Women')\n",
    "\n",
    "plt.xlabel('Group')\n",
    "plt.ylabel('Scores')\n",
    "plt.title('Scores by group and gender')\n",
    "plt.xticks(index + bar_width / 2, ('A', 'B', 'C', 'D', 'E'))\n",
    "plt.legend()\n",
    "\n",
    "plt.show()"
   ]
  },
  {
   "cell_type": "code",
   "execution_count": null,
   "metadata": {
    "collapsed": true
   },
   "outputs": [],
   "source": []
  }
 ],
 "metadata": {
  "kernelspec": {
   "display_name": "Python 2",
   "language": "python",
   "name": "python2"
  },
  "language_info": {
   "codemirror_mode": {
    "name": "ipython",
    "version": 2
   },
   "file_extension": ".py",
   "mimetype": "text/x-python",
   "name": "python",
   "nbconvert_exporter": "python",
   "pygments_lexer": "ipython2",
   "version": "2.7.13"
  }
 },
 "nbformat": 4,
 "nbformat_minor": 2
}
